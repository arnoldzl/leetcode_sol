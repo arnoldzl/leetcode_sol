{
 "cells": [
  {
   "cell_type": "markdown",
   "metadata": {},
   "source": [
    "## 1. Two Sum\n",
    "## 167. Two Sum 2"
   ]
  },
  {
   "cell_type": "code",
   "execution_count": 2,
   "metadata": {},
   "outputs": [
    {
     "name": "stdout",
     "output_type": "stream",
     "text": [
      "0 2\n",
      "2 0\n"
     ]
    }
   ],
   "source": [
    "nums = [2,7,11,15]\n",
    "target=13\n",
    "for index, item in enumerate(nums):\n",
    "  if target-item in nums:\n",
    "    print(index, nums.index(target-item))\n",
    "  else:\n",
    "    continue"
   ]
  },
  {
   "cell_type": "markdown",
   "metadata": {},
   "source": [
    "利用字典idxDict保存数字num到idx的映射\n",
    "\n",
    "time complexity o(n). dict:o(1)"
   ]
  },
  {
   "cell_type": "code",
   "execution_count": 19,
   "metadata": {},
   "outputs": [],
   "source": [
    "def twosum(nums, target):\n",
    "  idxDict = dict()\n",
    "  for index, item in enumerate(nums):\n",
    "    if target-item in idxDict:\n",
    "      return [idxDict[target-item],index]\n",
    "    idxDict[item]=index"
   ]
  },
  {
   "cell_type": "code",
   "execution_count": 20,
   "metadata": {},
   "outputs": [
    {
     "data": {
      "text/plain": [
       "[0, 2]"
      ]
     },
     "execution_count": 20,
     "metadata": {},
     "output_type": "execute_result"
    }
   ],
   "source": [
    "twosum(nums, target)"
   ]
  },
  {
   "cell_type": "markdown",
   "metadata": {},
   "source": [
    "利用2个指针来共同完成(**仅仅在sorted list中使用**)"
   ]
  },
  {
   "cell_type": "code",
   "execution_count": 21,
   "metadata": {
    "collapsed": true
   },
   "outputs": [],
   "source": [
    "def twosum_pointer(nums, target):\n",
    "  l,r = 0, len(nums)-1\n",
    "  while l < r:\n",
    "    s = nums[l]+nums[r]\n",
    "    if s == target:\n",
    "      return [l,r]\n",
    "    elif s<target:\n",
    "      l += 1\n",
    "    else:\n",
    "      r -= 1"
   ]
  },
  {
   "cell_type": "code",
   "execution_count": 22,
   "metadata": {},
   "outputs": [
    {
     "data": {
      "text/plain": [
       "[0, 2]"
      ]
     },
     "execution_count": 22,
     "metadata": {},
     "output_type": "execute_result"
    }
   ],
   "source": [
    "twosum_pointer(nums, target)"
   ]
  },
  {
   "cell_type": "markdown",
   "metadata": {},
   "source": [
    "利用binary search完成 \n",
    "\n",
    "time complexity: o(n*logn)"
   ]
  },
  {
   "cell_type": "code",
   "execution_count": 23,
   "metadata": {
    "collapsed": true
   },
   "outputs": [],
   "source": [
    "def twosum_bin(nums, target):\n",
    "  for i in range(len(nums)):\n",
    "    l, r = i+1, len(nums)-1\n",
    "    while l<= r:\n",
    "      mid = (l+(r-1))//2\n",
    "      s = target-nums[i]\n",
    "      if s == nums[mid]:\n",
    "        return [i, mid]\n",
    "      elif s < nums[mid]:\n",
    "        r = mid-1\n",
    "      else:\n",
    "        l = mid+1"
   ]
  },
  {
   "cell_type": "code",
   "execution_count": 24,
   "metadata": {},
   "outputs": [
    {
     "data": {
      "text/plain": [
       "[0, 2]"
      ]
     },
     "execution_count": 24,
     "metadata": {},
     "output_type": "execute_result"
    }
   ],
   "source": [
    "twosum_bin(nums, target)"
   ]
  },
  {
   "cell_type": "code",
   "execution_count": null,
   "metadata": {
    "collapsed": true
   },
   "outputs": [],
   "source": []
  }
 ],
 "metadata": {
  "kernelspec": {
   "display_name": "Python [conda root]",
   "language": "python",
   "name": "conda-root-py"
  },
  "language_info": {
   "codemirror_mode": {
    "name": "ipython",
    "version": 3
   },
   "file_extension": ".py",
   "mimetype": "text/x-python",
   "name": "python",
   "nbconvert_exporter": "python",
   "pygments_lexer": "ipython3",
   "version": "3.6.1"
  }
 },
 "nbformat": 4,
 "nbformat_minor": 2
}
