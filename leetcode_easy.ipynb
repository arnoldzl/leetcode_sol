{
 "cells": [
  {
   "cell_type": "markdown",
   "metadata": {},
   "source": [
    "## 1. Two Sum\n",
    "## 167. Two Sum 2"
   ]
  },
  {
   "cell_type": "markdown",
   "metadata": {},
   "source": [
    "利用字典idxDict保存数字num到idx的映射\n",
    "\n",
    "time complexity o(n). dict:o(1)"
   ]
  },
  {
   "cell_type": "code",
   "execution_count": null,
   "metadata": {
    "collapsed": true
   },
   "outputs": [],
   "source": [
    "def twosum(nums, target):\n",
    "  idxDict = dict()\n",
    "  for index, item in enumerate(nums):\n",
    "    if target-item in idxDict:\n",
    "      return [idxDict[target-item],index]\n",
    "    idxDict[item]=index"
   ]
  },
  {
   "cell_type": "code",
   "execution_count": null,
   "metadata": {},
   "outputs": [],
   "source": [
    "twosum(nums, target)"
   ]
  },
  {
   "cell_type": "markdown",
   "metadata": {},
   "source": [
    "利用2个指针来共同完成(**仅仅在sorted list中使用**)"
   ]
  },
  {
   "cell_type": "code",
   "execution_count": null,
   "metadata": {
    "collapsed": true
   },
   "outputs": [],
   "source": [
    "def twosum_pointer(nums, target):\n",
    "  l,r = 0, len(nums)-1\n",
    "  while l < r:\n",
    "    s = nums[l]+nums[r]\n",
    "    if s == target:\n",
    "      return [l,r]\n",
    "    elif s<target:\n",
    "      l += 1\n",
    "    else:\n",
    "      r -= 1"
   ]
  },
  {
   "cell_type": "code",
   "execution_count": null,
   "metadata": {},
   "outputs": [],
   "source": [
    "twosum_pointer(nums, target)"
   ]
  },
  {
   "cell_type": "markdown",
   "metadata": {},
   "source": [
    "利用binary search完成 \n",
    "\n",
    "time complexity: o(n*logn)"
   ]
  },
  {
   "cell_type": "code",
   "execution_count": null,
   "metadata": {
    "collapsed": true
   },
   "outputs": [],
   "source": [
    "def twosum_bin(nums, target):\n",
    "  for i in range(len(nums)):\n",
    "    l, r = i+1, len(nums)-1\n",
    "    while l<= r:\n",
    "      mid = (l+(r-1))//2\n",
    "      s = target-nums[i]\n",
    "      if s == nums[mid]:\n",
    "        return [i, mid]\n",
    "      elif s < nums[mid]:\n",
    "        r = mid-1\n",
    "      else:\n",
    "        l = mid+1"
   ]
  },
  {
   "cell_type": "markdown",
   "metadata": {},
   "source": [
    "## 653. Two Sums IV - Input is BST"
   ]
  },
  {
   "cell_type": "code",
   "execution_count": null,
   "metadata": {},
   "outputs": [],
   "source": [
    "# This is the test file\n",
    "class TreeNode(object):\n",
    "    def __init__(self, x):\n",
    "        self.val = x\n",
    "        self.left = None\n",
    "        self.right = None"
   ]
  },
  {
   "cell_type": "code",
   "execution_count": null,
   "metadata": {
    "collapsed": true
   },
   "outputs": [],
   "source": [
    "def stringToTreeNode(input):\n",
    "    input = input[1:-1] # eliminate '['&']'\n",
    "    if not input:\n",
    "        return None\n",
    "\n",
    "    inputValues = [s.strip() for s in input.split(',')] # a list of single number\n",
    "    root = TreeNode(int(inputValues[0]))\n",
    "    nodeQueue = [root]\n",
    "    front = 0\n",
    "    index = 1\n",
    "    while index < len(inputValues):\n",
    "        node = nodeQueue[front]\n",
    "        front = front + 1\n",
    "\n",
    "        item = inputValues[index]\n",
    "        index = index + 1\n",
    "        if item != \"null\":\n",
    "            leftNumber = int(item)\n",
    "            node.left = TreeNode(leftNumber)\n",
    "            nodeQueue.append(node.left)\n",
    "\n",
    "        if index >= len(inputValues):\n",
    "            break\n",
    "\n",
    "        item = inputValues[index]\n",
    "        index = index + 1\n",
    "        if item != \"null\":\n",
    "            rightNumber = int(item)\n",
    "            node.right = TreeNode(rightNumber)\n",
    "            nodeQueue.append(node.right)\n",
    "    return root\n",
    "\n",
    "import sys\n",
    "def readlines():\n",
    "    for line in sys.stdin:\n",
    "        yield line.strip('\\n')\n",
    "\n",
    "def main():\n",
    "    lines = readlines()\n",
    "    while True:\n",
    "        try:\n",
    "            line = next(lines)\n",
    "            root = stringToTreeNode(line)\n",
    "            line = next(lines)\n",
    "            k = int(line)\n",
    "            \n",
    "            ret = Solution().findTarget(root, k)\n",
    "\n",
    "            out = (ret)\n",
    "            print (out)\n",
    "        except StopIteration:\n",
    "            break\n",
    "\n",
    "if __name__ == '__main__':\n",
    "    main()"
   ]
  },
  {
   "cell_type": "markdown",
   "metadata": {},
   "source": [
    "sol1: 用BST自己的特性做搜索; Time Complexity o(n*h) \n",
    "\n",
    "n是树中节点的个数， h是树的深度"
   ]
  },
  {
   "cell_type": "code",
   "execution_count": null,
   "metadata": {
    "collapsed": true
   },
   "outputs": [],
   "source": [
    "class Solution(object):\n",
    "  def findTarget(self, root, k):\n",
    "    self.root = root\n",
    "    self.k = k\n",
    "    return self.findNumber(root)\n",
    "  def findNumber(self, root):\n",
    "    if not root: return False\n",
    "    node = self.root\n",
    "    n = self.k - root.val\n",
    "    if n!= node.val:\n",
    "      while node:\n",
    "        if n == node.val: return True\n",
    "        elif n < node.val: \n",
    "          node = node.left\n",
    "        else:\n",
    "          node = node.right\n",
    "    return self.findNumber(root.left) or self.findNumber(root.right)\n",
    "            "
   ]
  },
  {
   "cell_type": "markdown",
   "metadata": {},
   "source": [
    "sol2: traverse所有的节点到一个list中，然后在其中做two sum"
   ]
  },
  {
   "cell_type": "code",
   "execution_count": null,
   "metadata": {
    "collapsed": true
   },
   "outputs": [],
   "source": [
    "class Solution(object):\n",
    "  def findTarget(self, root,k):\n",
    "    self.dset = set()\n",
    "    self.traverse(root)\n",
    "    for n in self.dset:\n",
    "      if k-n != n and k-n in self.dset:\n",
    "        return True\n",
    "    return False\n",
    "  def traverse(self, root):\n",
    "    if not root: return\n",
    "    self.dset.add(root.val)\n",
    "    self.traverse(root.left)\n",
    "    self.traverse(root.right)"
   ]
  },
  {
   "cell_type": "markdown",
   "metadata": {},
   "source": [
    "## 7. Reverse Integer"
   ]
  },
  {
   "cell_type": "markdown",
   "metadata": {},
   "source": [
    "Time complexity: o(N)"
   ]
  },
  {
   "cell_type": "code",
   "execution_count": 33,
   "metadata": {
    "collapsed": true
   },
   "outputs": [],
   "source": [
    "# python built-in function\n",
    "class Solution(object):\n",
    "    def reverse(self, x):\n",
    "        \"\"\"\n",
    "        :type x: int\n",
    "        :rtype: int\n",
    "        \"\"\"\n",
    "        s = (x>0)-(x<0) # compare x with 0. s=1 if x>0, -1 if x<0, 0 if x=0\n",
    "        if s != 0 and x !=0:\n",
    "            r = int(str(abs(x))[::-1]) # [::-1] same as reversed(l) \n",
    "            return s*r*(r<2**31) # (r< 2**31) handle overflow\n",
    "        else: return 0"
   ]
  },
  {
   "cell_type": "code",
   "execution_count": 34,
   "metadata": {},
   "outputs": [],
   "source": [
    "# use % to get the res of x\n",
    "class Solution(object):\n",
    "    def reverse(self, x):\n",
    "        \"\"\"\n",
    "        :type x: int\n",
    "        :rtype: int\n",
    "        \"\"\"\n",
    "        l=[]\n",
    "        s = (x>0)-(x<0) # compare x with 0 \n",
    "        if s != 0 and x !=0:\n",
    "            x = abs(x)\n",
    "            while x != 0:\n",
    "                a = x%10\n",
    "                l.append(a)\n",
    "                x = x//10\n",
    "            r = int(''.join(str(e) for e in l))\n",
    "            return s*r*(r<2**31)\n",
    "        else: return 0"
   ]
  },
  {
   "cell_type": "code",
   "execution_count": 41,
   "metadata": {},
   "outputs": [],
   "source": [
    "# similar to sol2.\n",
    "class Solution(object):\n",
    "    def reverse(self, x):\n",
    "        \"\"\"\n",
    "        :type x: int\n",
    "        :rtype: int\n",
    "        \"\"\"\n",
    "        ans,s = 0,1\n",
    "        if x<0: \n",
    "            s=-1\n",
    "            x = abs(x)\n",
    "        while x:\n",
    "            temp = ans*10 + x%10\n",
    "            ans = temp\n",
    "            x //= 10\n",
    "        return ans*s*(ans<2**31)"
   ]
  },
  {
   "cell_type": "markdown",
   "metadata": {},
   "source": [
    "## 9. Palindrome Number\n",
    "a palindrome number is same to read from both sides.\n",
    "\n",
    "eg: 101, 1001, 121, 1221"
   ]
  },
  {
   "cell_type": "code",
   "execution_count": 43,
   "metadata": {
    "collapsed": true
   },
   "outputs": [],
   "source": [
    "# intuitive idea: Convert number to string and then compare original and \n",
    "# reversed one. If they are same, return True.\n",
    "class Solution(object):\n",
    "    def isPalindrome(self, x):\n",
    "        \"\"\"\n",
    "        :type x: int\n",
    "        :rtype: bool\n",
    "        \"\"\"\n",
    "        if x<0: return False\n",
    "        return (str(x)==str(x)[::-1])"
   ]
  },
  {
   "cell_type": "code",
   "execution_count": 44,
   "metadata": {
    "collapsed": true
   },
   "outputs": [],
   "source": [
    "# advanced idea: revert half of the number's digit\n",
    "class Solution(object):\n",
    "    def isPalindrome(self, x):\n",
    "        \"\"\"\n",
    "        :type x: int\n",
    "        :rtype: bool\n",
    "        \"\"\"\n",
    "        # x<0 or x=10/20/30 etc. numbers ends by 0 all can't be palindrome\n",
    "        if x<0 or (x%10==0 and x!=0): return False\n",
    "        ans = 0\n",
    "        while x>ans: # if the front half is smaller or equal to later part\n",
    "            ans = ans*10 + x%10 \n",
    "            x //= 10\n",
    "        return x == ans or x==ans//10 # when there is a odd digit number,\n",
    "                            # the middle digit doesn't influence"
   ]
  },
  {
   "cell_type": "markdown",
   "metadata": {},
   "source": [
    "## 234. Palindrome Linked List"
   ]
  },
  {
   "cell_type": "code",
   "execution_count": 46,
   "metadata": {
    "collapsed": true
   },
   "outputs": [],
   "source": [
    "# intuitive idea: Traverse all linked-list, put all values in a list\n",
    "# compare this list\n",
    "class Solution(object):\n",
    "    def isPalindrome(self, head):\n",
    "        \"\"\"\n",
    "        :type head: ListNode\n",
    "        :rtype: bool\n",
    "        \"\"\"\n",
    "        if not head: return True\n",
    "        l=[]\n",
    "        node = head\n",
    "        while node:\n",
    "            l.append(node.val)\n",
    "            node = node.next\n",
    "        return l == l[::-1]"
   ]
  },
  {
   "cell_type": "code",
   "execution_count": 51,
   "metadata": {
    "collapsed": true
   },
   "outputs": [],
   "source": [
    "# 使用快慢指针寻找linkedlist中点\n",
    "# 将linkedlist后半部分就地逆置，然后对比前后两半元素是否一样\n",
    "class Solution(object):\n",
    "    def isPalindrome(self, head):\n",
    "        \"\"\"\n",
    "        :type head: ListNode\n",
    "        :rtype: bool\n",
    "        \"\"\"\n",
    "        if not head: return True\n",
    "        slow, fast = head, head\n",
    "        while fast.next and fast.next.next:\n",
    "            slow = slow.next # if odd number, s point to middle, if even number, s point to the left middle\n",
    "            fast = fast.next.next\n",
    "        p, last = slow.next, None # p is a temp pointer to facilitate\n",
    "        while p:\n",
    "            np = p.next\n",
    "            p.next = last\n",
    "            p, last = np, p\n",
    "        # compare the first half and the second half\n",
    "        phead, plast = head, last\n",
    "        while plast and phead.val == plast.val:\n",
    "            phead = phead.next\n",
    "            plast = plast.next\n",
    "        # Below is to reestablished the list\n",
    "        p, last = last, None\n",
    "        while p :\n",
    "          np = p.next\n",
    "          p.next = last\n",
    "          p, last = np, p\n",
    "        slow.next = last\n",
    "        # return if the second last while loop actually works\n",
    "        return plast is None"
   ]
  },
  {
   "cell_type": "markdown",
   "metadata": {},
   "source": [
    "## 125. Valid Palindrome"
   ]
  },
  {
   "cell_type": "code",
   "execution_count": 53,
   "metadata": {},
   "outputs": [],
   "source": [
    "import re, string\n",
    "pattern = re.compile('[\\W_]+')"
   ]
  },
  {
   "cell_type": "code",
   "execution_count": null,
   "metadata": {
    "collapsed": true
   },
   "outputs": [],
   "source": []
  }
 ],
 "metadata": {
  "kernelspec": {
   "display_name": "Python [conda root]",
   "language": "python",
   "name": "conda-root-py"
  },
  "language_info": {
   "codemirror_mode": {
    "name": "ipython",
    "version": 3
   },
   "file_extension": ".py",
   "mimetype": "text/x-python",
   "name": "python",
   "nbconvert_exporter": "python",
   "pygments_lexer": "ipython3",
   "version": "3.6.1"
  }
 },
 "nbformat": 4,
 "nbformat_minor": 2
}
