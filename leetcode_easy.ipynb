{
 "cells": [
  {
   "cell_type": "markdown",
   "metadata": {},
   "source": [
    "## 1. Two Sum\n",
    "## 167. Two Sum 2"
   ]
  },
  {
   "cell_type": "markdown",
   "metadata": {},
   "source": [
    "利用字典idxDict保存数字num到idx的映射\n",
    "\n",
    "time complexity o(n). dict:o(1)"
   ]
  },
  {
   "cell_type": "code",
   "execution_count": null,
   "metadata": {
    "collapsed": true
   },
   "outputs": [],
   "source": [
    "def twosum(nums, target):\n",
    "  idxDict = dict()\n",
    "  for index, item in enumerate(nums):\n",
    "    if target-item in idxDict:\n",
    "      return [idxDict[target-item],index]\n",
    "    idxDict[item]=index"
   ]
  },
  {
   "cell_type": "code",
   "execution_count": null,
   "metadata": {
    "collapsed": true
   },
   "outputs": [],
   "source": [
    "twosum(nums, target)"
   ]
  },
  {
   "cell_type": "markdown",
   "metadata": {},
   "source": [
    "利用2个指针来共同完成(**仅仅在sorted list中使用**)"
   ]
  },
  {
   "cell_type": "code",
   "execution_count": null,
   "metadata": {
    "collapsed": true
   },
   "outputs": [],
   "source": [
    "def twosum_pointer(nums, target):\n",
    "  l,r = 0, len(nums)-1\n",
    "  while l < r:\n",
    "    s = nums[l]+nums[r]\n",
    "    if s == target:\n",
    "      return [l,r]\n",
    "    elif s<target:\n",
    "      l += 1\n",
    "    else:\n",
    "      r -= 1"
   ]
  },
  {
   "cell_type": "code",
   "execution_count": null,
   "metadata": {
    "collapsed": true
   },
   "outputs": [],
   "source": [
    "twosum_pointer(nums, target)"
   ]
  },
  {
   "cell_type": "markdown",
   "metadata": {},
   "source": [
    "利用binary search完成 \n",
    "\n",
    "time complexity: o(n*logn)"
   ]
  },
  {
   "cell_type": "code",
   "execution_count": null,
   "metadata": {
    "collapsed": true
   },
   "outputs": [],
   "source": [
    "def twosum_bin(nums, target):\n",
    "  for i in range(len(nums)):\n",
    "    l, r = i+1, len(nums)-1\n",
    "    while l<= r:\n",
    "      mid = (l+(r-1))//2\n",
    "      s = target-nums[i]\n",
    "      if s == nums[mid]:\n",
    "        return [i, mid]\n",
    "      elif s < nums[mid]:\n",
    "        r = mid-1\n",
    "      else:\n",
    "        l = mid+1"
   ]
  },
  {
   "cell_type": "markdown",
   "metadata": {},
   "source": [
    "## 653. Two Sums IV - Input is BST"
   ]
  },
  {
   "cell_type": "code",
   "execution_count": null,
   "metadata": {
    "collapsed": true
   },
   "outputs": [],
   "source": [
    "# This is the test file\n",
    "class TreeNode(object):\n",
    "    def __init__(self, x):\n",
    "        self.val = x\n",
    "        self.left = None\n",
    "        self.right = None"
   ]
  },
  {
   "cell_type": "code",
   "execution_count": null,
   "metadata": {
    "collapsed": true
   },
   "outputs": [],
   "source": [
    "def stringToTreeNode(input):\n",
    "    input = input[1:-1] # eliminate '['&']'\n",
    "    if not input:\n",
    "        return None\n",
    "\n",
    "    inputValues = [s.strip() for s in input.split(',')] # a list of single number\n",
    "    root = TreeNode(int(inputValues[0]))\n",
    "    nodeQueue = [root]\n",
    "    front = 0\n",
    "    index = 1\n",
    "    while index < len(inputValues):\n",
    "        node = nodeQueue[front]\n",
    "        front = front + 1\n",
    "\n",
    "        item = inputValues[index]\n",
    "        index = index + 1\n",
    "        if item != \"null\":\n",
    "            leftNumber = int(item)\n",
    "            node.left = TreeNode(leftNumber)\n",
    "            nodeQueue.append(node.left)\n",
    "\n",
    "        if index >= len(inputValues):\n",
    "            break\n",
    "\n",
    "        item = inputValues[index]\n",
    "        index = index + 1\n",
    "        if item != \"null\":\n",
    "            rightNumber = int(item)\n",
    "            node.right = TreeNode(rightNumber)\n",
    "            nodeQueue.append(node.right)\n",
    "    return root\n",
    "\n",
    "import sys\n",
    "def readlines():\n",
    "    for line in sys.stdin:\n",
    "        yield line.strip('\\n')\n",
    "\n",
    "def main():\n",
    "    lines = readlines()\n",
    "    while True:\n",
    "        try:\n",
    "            line = next(lines)\n",
    "            root = stringToTreeNode(line)\n",
    "            line = next(lines)\n",
    "            k = int(line)\n",
    "            \n",
    "            ret = Solution().findTarget(root, k)\n",
    "\n",
    "            out = (ret)\n",
    "            print (out)\n",
    "        except StopIteration:\n",
    "            break\n",
    "\n",
    "if __name__ == '__main__':\n",
    "    main()"
   ]
  },
  {
   "cell_type": "markdown",
   "metadata": {},
   "source": [
    "sol1: 用BST自己的特性做搜索; Time Complexity o(n*h) \n",
    "\n",
    "n是树中节点的个数， h是树的深度"
   ]
  },
  {
   "cell_type": "code",
   "execution_count": null,
   "metadata": {
    "collapsed": true
   },
   "outputs": [],
   "source": [
    "class Solution(object):\n",
    "  def findTarget(self, root, k):\n",
    "    self.root = root\n",
    "    self.k = k\n",
    "    return self.findNumber(root)\n",
    "  def findNumber(self, root):\n",
    "    if not root: return False\n",
    "    node = self.root\n",
    "    n = self.k - root.val\n",
    "    if n!= node.val:\n",
    "      while node:\n",
    "        if n == node.val: return True\n",
    "        elif n < node.val: \n",
    "          node = node.left\n",
    "        else:\n",
    "          node = node.right\n",
    "    return self.findNumber(root.left) or self.findNumber(root.right)\n",
    "            "
   ]
  },
  {
   "cell_type": "markdown",
   "metadata": {},
   "source": [
    "sol2: traverse所有的节点到一个list中，然后在其中做two sum"
   ]
  },
  {
   "cell_type": "code",
   "execution_count": null,
   "metadata": {
    "collapsed": true
   },
   "outputs": [],
   "source": [
    "class Solution(object):\n",
    "  def findTarget(self, root,k):\n",
    "    self.dset = set()\n",
    "    self.traverse(root)\n",
    "    for n in self.dset:\n",
    "      if k-n != n and k-n in self.dset:\n",
    "        return True\n",
    "    return False\n",
    "  def traverse(self, root):\n",
    "    if not root: return\n",
    "    self.dset.add(root.val)\n",
    "    self.traverse(root.left)\n",
    "    self.traverse(root.right)"
   ]
  },
  {
   "cell_type": "markdown",
   "metadata": {},
   "source": [
    "## 7. Reverse Integer"
   ]
  },
  {
   "cell_type": "markdown",
   "metadata": {},
   "source": [
    "Time complexity: o(N)"
   ]
  },
  {
   "cell_type": "code",
   "execution_count": 33,
   "metadata": {
    "collapsed": true
   },
   "outputs": [],
   "source": [
    "# python built-in function\n",
    "class Solution(object):\n",
    "    def reverse(self, x):\n",
    "        \"\"\"\n",
    "        :type x: int\n",
    "        :rtype: int\n",
    "        \"\"\"\n",
    "        s = (x>0)-(x<0) # compare x with 0. s=1 if x>0, -1 if x<0, 0 if x=0\n",
    "        if s != 0 and x !=0:\n",
    "            r = int(str(abs(x))[::-1]) # [::-1] same as reversed(l) \n",
    "            return s*r*(r<2**31) # (r< 2**31) handle overflow\n",
    "        else: return 0"
   ]
  },
  {
   "cell_type": "code",
   "execution_count": 34,
   "metadata": {
    "collapsed": true
   },
   "outputs": [],
   "source": [
    "# use % to get the res of x\n",
    "class Solution(object):\n",
    "    def reverse(self, x):\n",
    "        \"\"\"\n",
    "        :type x: int\n",
    "        :rtype: int\n",
    "        \"\"\"\n",
    "        l=[]\n",
    "        s = (x>0)-(x<0) # compare x with 0 \n",
    "        if s != 0 and x !=0:\n",
    "            x = abs(x)\n",
    "            while x != 0:\n",
    "                a = x%10\n",
    "                l.append(a)\n",
    "                x = x//10\n",
    "            r = int(''.join(str(e) for e in l))\n",
    "            return s*r*(r<2**31)\n",
    "        else: return 0"
   ]
  },
  {
   "cell_type": "code",
   "execution_count": 41,
   "metadata": {
    "collapsed": true
   },
   "outputs": [],
   "source": [
    "# similar to sol2.\n",
    "class Solution(object):\n",
    "    def reverse(self, x):\n",
    "        \"\"\"\n",
    "        :type x: int\n",
    "        :rtype: int\n",
    "        \"\"\"\n",
    "        ans,s = 0,1\n",
    "        if x<0: \n",
    "            s=-1\n",
    "            x = abs(x)\n",
    "        while x:\n",
    "            temp = ans*10 + x%10\n",
    "            ans = temp\n",
    "            x //= 10\n",
    "        return ans*s*(ans<2**31)"
   ]
  },
  {
   "cell_type": "markdown",
   "metadata": {},
   "source": [
    "## 9. Palindrome Number\n",
    "a palindrome number is same to read from both sides.\n",
    "\n",
    "eg: 101, 1001, 121, 1221"
   ]
  },
  {
   "cell_type": "code",
   "execution_count": 43,
   "metadata": {
    "collapsed": true
   },
   "outputs": [],
   "source": [
    "# intuitive idea: Convert number to string and then compare original and \n",
    "# reversed one. If they are same, return True.\n",
    "class Solution(object):\n",
    "    def isPalindrome(self, x):\n",
    "        \"\"\"\n",
    "        :type x: int\n",
    "        :rtype: bool\n",
    "        \"\"\"\n",
    "        if x<0: return False\n",
    "        return (str(x)==str(x)[::-1])"
   ]
  },
  {
   "cell_type": "code",
   "execution_count": 44,
   "metadata": {
    "collapsed": true
   },
   "outputs": [],
   "source": [
    "# advanced idea: revert half of the number's digit\n",
    "class Solution(object):\n",
    "    def isPalindrome(self, x):\n",
    "        \"\"\"\n",
    "        :type x: int\n",
    "        :rtype: bool\n",
    "        \"\"\"\n",
    "        # x<0 or x=10/20/30 etc. numbers ends by 0 all can't be palindrome\n",
    "        if x<0 or (x%10==0 and x!=0): return False\n",
    "        ans = 0\n",
    "        while x>ans: # if the front half is smaller or equal to later part\n",
    "            ans = ans*10 + x%10 \n",
    "            x //= 10\n",
    "        return x == ans or x==ans//10 # when there is a odd digit number,\n",
    "                            # the middle digit doesn't influence"
   ]
  },
  {
   "cell_type": "markdown",
   "metadata": {},
   "source": [
    "## 234. Palindrome Linked List"
   ]
  },
  {
   "cell_type": "code",
   "execution_count": 46,
   "metadata": {
    "collapsed": true
   },
   "outputs": [],
   "source": [
    "# intuitive idea: Traverse all linked-list, put all values in a list\n",
    "# compare this list\n",
    "class Solution(object):\n",
    "    def isPalindrome(self, head):\n",
    "        \"\"\"\n",
    "        :type head: ListNode\n",
    "        :rtype: bool\n",
    "        \"\"\"\n",
    "        if not head: return True\n",
    "        l=[]\n",
    "        node = head\n",
    "        while node:\n",
    "            l.append(node.val)\n",
    "            node = node.next\n",
    "        return l == l[::-1]"
   ]
  },
  {
   "cell_type": "code",
   "execution_count": 51,
   "metadata": {
    "collapsed": true
   },
   "outputs": [],
   "source": [
    "# 使用快慢指针寻找linkedlist中点\n",
    "# 将linkedlist后半部分就地逆置，然后对比前后两半元素是否一样\n",
    "class Solution(object):\n",
    "    def isPalindrome(self, head):\n",
    "        \"\"\"\n",
    "        :type head: ListNode\n",
    "        :rtype: bool\n",
    "        \"\"\"\n",
    "        if not head: return True\n",
    "        slow, fast = head, head\n",
    "        while fast.next and fast.next.next:\n",
    "            slow = slow.next # if odd number, s point to middle, if even number, s point to the left middle\n",
    "            fast = fast.next.next\n",
    "        p, last = slow.next, None # p is a temp pointer to facilitate\n",
    "        while p:\n",
    "            np = p.next\n",
    "            p.next = last\n",
    "            p, last = np, p\n",
    "        # compare the first half and the second half\n",
    "        phead, plast = head, last\n",
    "        while plast and phead.val == plast.val:\n",
    "            phead = phead.next\n",
    "            plast = plast.next\n",
    "        # Below is to reestablished the list\n",
    "        p, last = last, None\n",
    "        while p :\n",
    "          np = p.next\n",
    "          p.next = last\n",
    "          p, last = np, p\n",
    "        slow.next = last\n",
    "        # return if the second last while loop actually works\n",
    "        return plast is None"
   ]
  },
  {
   "cell_type": "markdown",
   "metadata": {},
   "source": [
    "## 125. Valid Palindrome"
   ]
  },
  {
   "cell_type": "code",
   "execution_count": 63,
   "metadata": {},
   "outputs": [
    {
     "data": {
      "text/plain": [
       "'AmanaplanacanalPanama'"
      ]
     },
     "execution_count": 63,
     "metadata": {},
     "output_type": "execute_result"
    }
   ],
   "source": [
    "# change a string to only alphnum\n",
    "mystr = \"A man, a plan, a canal: Panama\"\n",
    "import re\n",
    "re.sub('\\W+', '', mystr)"
   ]
  },
  {
   "cell_type": "code",
   "execution_count": 65,
   "metadata": {
    "collapsed": true
   },
   "outputs": [],
   "source": [
    "todo = ''.join(ch for ch in mystr if ch.isalnum())"
   ]
  },
  {
   "cell_type": "code",
   "execution_count": 84,
   "metadata": {
    "collapsed": true
   },
   "outputs": [],
   "source": [
    "# use two pointers to achieve\n",
    "def isPalindrome(s):\n",
    "  \"\"\"\n",
    "  :type s: str\n",
    "  :rtype: bool\n",
    "  \"\"\"\n",
    "  l, r = 0, len(s)-1\n",
    "  while l<r:\n",
    "    while l<r and not s[l].isalnum():\n",
    "      l+=1\n",
    "    while l<r and not s[r].isalnum():\n",
    "      r-=1\n",
    "    if s[l].lower() != s[r].lower():\n",
    "      return False\n",
    "    l+=1\n",
    "    r-=1\n",
    "  return True"
   ]
  },
  {
   "cell_type": "markdown",
   "metadata": {},
   "source": [
    "## 349. Intersection of Two Arrays"
   ]
  },
  {
   "cell_type": "code",
   "execution_count": 91,
   "metadata": {},
   "outputs": [
    {
     "data": {
      "text/plain": [
       "[1]"
      ]
     },
     "execution_count": 91,
     "metadata": {},
     "output_type": "execute_result"
    }
   ],
   "source": [
    "nums1 = [1]\n",
    "nums2 = [1]\n",
    "list(set(nums1).intersection(set(nums2)))"
   ]
  },
  {
   "cell_type": "code",
   "execution_count": 92,
   "metadata": {
    "collapsed": true
   },
   "outputs": [],
   "source": [
    "# Weired can't pass leetcode, use regular instead\n",
    "class Solution(object):\n",
    "    def intersection(self, nums1, nums2):\n",
    "        \"\"\"\n",
    "        :type nums1: List[int]\n",
    "        :type nums2: List[int]\n",
    "        :rtype: List[int]\n",
    "        \"\"\"\n",
    "        nums1=set(nums1)\n",
    "        nums2=set(nums2)\n",
    "        return list(nums1&nums2)"
   ]
  },
  {
   "cell_type": "code",
   "execution_count": 93,
   "metadata": {},
   "outputs": [
    {
     "name": "stdout",
     "output_type": "stream",
     "text": [
      "{1}\n"
     ]
    }
   ],
   "source": [
    "# intuitive thought\n",
    "r = set()\n",
    "for item in nums2:\n",
    "  if item in nums1:\n",
    "    r.add(item)\n",
    "print(r)"
   ]
  },
  {
   "cell_type": "markdown",
   "metadata": {},
   "source": [
    "## 350. Intersection of two Arrays with repeat value"
   ]
  },
  {
   "cell_type": "code",
   "execution_count": 100,
   "metadata": {
    "collapsed": true
   },
   "outputs": [],
   "source": [
    "# pythonic way\n",
    "nums2=[1,2,2,1]\n",
    "nums1=[2,2]\n",
    "b = [val for val in nums1 if val in nums2]\n"
   ]
  },
  {
   "cell_type": "code",
   "execution_count": 101,
   "metadata": {
    "collapsed": true
   },
   "outputs": [],
   "source": [
    "# given two sorted list, this will reduce time complexity\n",
    "class Solution(object):\n",
    "    def intersect(self, nums1, nums2):\n",
    "        \"\"\"\n",
    "        :type nums1: List[int]\n",
    "        :type nums2: List[int]\n",
    "        :rtype: List[int]\n",
    "        \"\"\"\n",
    "        nums1 = sorted(nums1)\n",
    "        nums2 = sorted(nums2)\n",
    "        ans = []\n",
    "        p1,p2=0,0\n",
    "        while p1<len(nums1) and p2<len(nums2):\n",
    "            if nums1[p1] < nums2[p2]:\n",
    "                p1 += 1\n",
    "            elif nums1[p1] > nums2[p2]:\n",
    "                p2 += 1\n",
    "            else:\n",
    "                ans.append(nums1[p1])\n",
    "                p1 += 1\n",
    "                p2 += 1\n",
    "        return ans"
   ]
  },
  {
   "cell_type": "code",
   "execution_count": 105,
   "metadata": {
    "collapsed": true
   },
   "outputs": [],
   "source": [
    "#Incredibly fast!\n",
    "class Solution(object):\n",
    "    def intersect(self, nums1, nums2):\n",
    "        \"\"\"\n",
    "        :type nums1: List[int]\n",
    "        :type nums2: List[int]\n",
    "        :rtype: List[int]\n",
    "        \"\"\"\n",
    "        # nums1 < nums2\n",
    "        if len(nums1) > len(nums2):\n",
    "            nums1, nums2 = nums2, nums1\n",
    "        ans = []\n",
    "        # using counter to store nums2\n",
    "        c = collections.Counter(nums1)\n",
    "        for x in nums2:\n",
    "            if c[x] > 0:\n",
    "                ans.append(x)\n",
    "                c[x] -= 1\n",
    "        return ans"
   ]
  },
  {
   "cell_type": "markdown",
   "metadata": {},
   "source": [
    "## 13. Roman to Integer"
   ]
  },
  {
   "cell_type": "code",
   "execution_count": 9,
   "metadata": {
    "collapsed": true
   },
   "outputs": [],
   "source": [
    "roman = {'I':1, 'V':5, 'X':10,'L':50, 'C':100, 'D':500, 'M':1000}"
   ]
  },
  {
   "cell_type": "code",
   "execution_count": 10,
   "metadata": {},
   "outputs": [
    {
     "name": "stdout",
     "output_type": "stream",
     "text": [
      "1904\n"
     ]
    }
   ],
   "source": [
    "s = 'MCMIV'\n",
    "z = 0\n",
    "for i in range(len(s)-1):\n",
    "  if roman[s[i]] < roman[s[i+1]]:\n",
    "    z -= roman[s[i]]\n",
    "  else:\n",
    "    z += roman[s[i]]\n",
    "    \n",
    "print (z + roman[s[-1]])"
   ]
  },
  {
   "cell_type": "markdown",
   "metadata": {},
   "source": [
    "## 14. Longest Common Prefix"
   ]
  },
  {
   "cell_type": "code",
   "execution_count": 30,
   "metadata": {
    "collapsed": true
   },
   "outputs": [],
   "source": [
    "def twostr_compare(s1, s2):\n",
    "  m = min(len(s1),len(s2))\n",
    "  for i in range(m):\n",
    "    if s1[i]!= s2[i]:\n",
    "      return s1[:i]\n",
    "  return s1[:m]"
   ]
  },
  {
   "cell_type": "code",
   "execution_count": 29,
   "metadata": {},
   "outputs": [
    {
     "data": {
      "text/plain": [
       "''"
      ]
     },
     "execution_count": 29,
     "metadata": {},
     "output_type": "execute_result"
    }
   ],
   "source": [
    "strs = ['aca','cba']\n",
    "common = strs[0]\n",
    "\n",
    "for i in range(1, len(strs)):\n",
    "  common = twostr_compare(common, strs[i])\n",
    "  \n",
    "common"
   ]
  },
  {
   "cell_type": "code",
   "execution_count": 24,
   "metadata": {
    "collapsed": true
   },
   "outputs": [],
   "source": [
    "# horizontal search solutuon:\n",
    "# do comparison one by one\n",
    "# time compexity is O(S), S is all character in strs\n",
    "class Solution(object):\n",
    "    def longestCommonPrefix(self, strs):\n",
    "        \"\"\"\n",
    "        :type strs: List[str]\n",
    "        :rtype: str\n",
    "        \"\"\"\n",
    "        if len(strs)==0: return ''\n",
    "        def twostr_compare(s1, s2):\n",
    "            c=''\n",
    "            for i in range(min(len(s1),len(s2))):\n",
    "                if s1[i] == s2[i]:\n",
    "                    c+=s1[i]\n",
    "                else:\n",
    "                    break\n",
    "            return c\n",
    "        common = strs[0]\n",
    "        for i in range(1, len(strs)):\n",
    "            common = twostr_compare(common, strs[i])\n",
    "        return common"
   ]
  },
  {
   "cell_type": "code",
   "execution_count": 26,
   "metadata": {},
   "outputs": [
    {
     "data": {
      "text/plain": [
       "'a'"
      ]
     },
     "execution_count": 26,
     "metadata": {},
     "output_type": "execute_result"
    }
   ],
   "source": [
    "strs = ['a','b']\n",
    "strs[0][:1]"
   ]
  },
  {
   "cell_type": "code",
   "execution_count": 27,
   "metadata": {
    "collapsed": true
   },
   "outputs": [],
   "source": [
    "# This is a vertical search algorithm\n",
    "# Search character by character in the same column\n",
    "# reduce work load when there is a small string in the end\n",
    "# worst case still O(S), S is the number of character\n",
    "class Solution(object):\n",
    "    def longestCommonPrefix(self, strs):\n",
    "        \"\"\"\n",
    "        :type strs: List[str]\n",
    "        :rtype: str\n",
    "        \"\"\"\n",
    "        if len(strs)==0: return ''\n",
    "        for i in range(len(strs[0])):\n",
    "            for j in range(1, len(strs)):\n",
    "                if (len(strs[j])==i or strs[j][i]!=strs[0][i]):\n",
    "                    return strs[0][:i]\n",
    "        return strs[0]"
   ]
  },
  {
   "cell_type": "code",
   "execution_count": 32,
   "metadata": {
    "collapsed": true
   },
   "outputs": [],
   "source": [
    "# This is the divide-and-conquer solution\n",
    "# time complexity still O(S), the best situation is O(minLength*n) n is\n",
    "# the number strings in strs\n",
    "# also there is space complexity here: O(m*log(n)). we need m spaces \n",
    "# to store each log(n) recursive calls\n",
    "class Solution(object):\n",
    "    def longestCommonPrefix(self, strs):\n",
    "        \"\"\"\n",
    "        :type strs: List[str]\n",
    "        :rtype: str\n",
    "        \"\"\"\n",
    "        def twostr_compare(s1, s2):\n",
    "            m = min(len(s1),len(s2))\n",
    "            for i in range(m):\n",
    "                if s1[i]!= s2[i]:\n",
    "                    return s1[:i]\n",
    "            return s1[:m]\n",
    "        \n",
    "        def sublcp(s, l, r):\n",
    "            if l==r: return s[l]\n",
    "            else:\n",
    "                mid = (l+r)/2\n",
    "                lcpleft = sublcp(s, l, mid)\n",
    "                lcpright = sublcp(s, mid+1, r)\n",
    "                return twostr_compare(lcpleft,lcpright)\n",
    "        if len(strs)==0: return ''\n",
    "        return sublcp(strs, 0, len(strs)-1)\n",
    "        "
   ]
  },
  {
   "cell_type": "code",
   "execution_count": 34,
   "metadata": {
    "collapsed": true
   },
   "outputs": [],
   "source": [
    "# pythonic way to do \n",
    "class Solution(object):\n",
    "    def longestCommonPrefix(self, strs):\n",
    "        \"\"\"\n",
    "        :type strs: List[str]\n",
    "        :rtype: str\n",
    "        \"\"\"\n",
    "        if not strs: return ''\n",
    "        s1 = min(strs)\n",
    "        s2 = max(strs)\n",
    "        for i, c in enumerate(s1):\n",
    "            if c != s2[i]:\n",
    "                return s1[:i]\n",
    "        return s1"
   ]
  },
  {
   "cell_type": "markdown",
   "metadata": {},
   "source": [
    "## 459 Repeated Substring Pattern"
   ]
  },
  {
   "cell_type": "markdown",
   "metadata": {},
   "source": [
    "### Before that, famaliar with KMP algorithm first"
   ]
  },
  {
   "cell_type": "code",
   "execution_count": 42,
   "metadata": {
    "collapsed": true
   },
   "outputs": [],
   "source": [
    "def computeLPSArray(pat, M, lps):\n",
    "  plen = 0 # length of the previous longest proper prefix and suffix\n",
    "  lps[0] = 0\n",
    "  i = 1\n",
    "  # starts from i=1 to M-1, M is the length of pattern\n",
    "  while i<M:\n",
    "    if pat[i] == pat[plen]:\n",
    "      plen+=1\n",
    "      lps[i] = plen\n",
    "      i+=1\n",
    "    else:\n",
    "      if plen!=0:\n",
    "        plen = lps[plen-1]\n",
    "      else:\n",
    "        lps[i] = 0\n",
    "        i+=1"
   ]
  },
  {
   "cell_type": "code",
   "execution_count": 43,
   "metadata": {
    "collapsed": true
   },
   "outputs": [],
   "source": [
    "def KMPsearch(pat, txt):\n",
    "  M = len(pat)\n",
    "  N = len(txt)\n",
    "  lps = [0]*M\n",
    "  j = 0 # index for pattern\n",
    "  # prepocess the pattern\n",
    "  computeLPSArray(pat, M, lps)\n",
    "  \n",
    "  i=0 # index for txt\n",
    "  while i<N:\n",
    "    if pat[j] == txt[i]:\n",
    "      i+=1\n",
    "      j+=1\n",
    "      \n",
    "    if j==M:\n",
    "      print(\"Found pattern at index \" + str(i-j))\n",
    "      j = lps[j-1]\n",
    "      \n",
    "    # mismatch after j matches\n",
    "    elif i<N and pat[j] != txt[i]:\n",
    "      # Don't match lps[0:lps[j-1]] character\n",
    "      # they will already mismatch\n",
    "      if j!=0:\n",
    "        j=lps[j-1]\n",
    "      else:\n",
    "        i+=1"
   ]
  },
  {
   "cell_type": "code",
   "execution_count": 44,
   "metadata": {},
   "outputs": [
    {
     "name": "stdout",
     "output_type": "stream",
     "text": [
      "Found pattern at index 10\n"
     ]
    }
   ],
   "source": [
    "KMPsearch(\"ABABCABAB\", \"ABABDABACDABABCABAB\")"
   ]
  },
  {
   "cell_type": "markdown",
   "metadata": {},
   "source": [
    "### This is how to do repeated substring pattern"
   ]
  },
  {
   "cell_type": "code",
   "execution_count": 47,
   "metadata": {
    "collapsed": true
   },
   "outputs": [],
   "source": [
    "# construct a lcp string in kmp algorithm\n",
    "# just need the last value of lcp\n",
    "# if it is > 0 and size(strs)%(size(strs)-lcp[-1]) = 0, then it is\n",
    "# repeated string\n",
    "# consider ababab lcp string is [0,0,1,2,3,4] 6/(6-4) is basically \n",
    "# the repeating times of each string\n",
    "# The complexity of it is Linear\n",
    "def repeatedSubstringPattern(self, strs):\n",
    "  size = len(strs)\n",
    "  lcp = [0]*size\n",
    "  for i in range(1, size):\n",
    "    k = lcp[i-1]\n",
    "    while strs[i] != strs[k] and k:\n",
    "      k = lcp[k-1]\n",
    "    if strs[i] == strs[k]:\n",
    "      lcp[i] = k+1\n",
    "      \n",
    "  p = lcp[-1]\n",
    "  return p>0 and size % (size-p) == 0"
   ]
  },
  {
   "cell_type": "code",
   "execution_count": 49,
   "metadata": {},
   "outputs": [
    {
     "data": {
      "text/plain": [
       "4"
      ]
     },
     "execution_count": 49,
     "metadata": {},
     "output_type": "execute_result"
    }
   ],
   "source": [
    "9//2"
   ]
  },
  {
   "cell_type": "code",
   "execution_count": 83,
   "metadata": {},
   "outputs": [],
   "source": [
    "# brute-force method\n",
    "# if an array is repeat, should start with 0 index\n",
    "# and divide with its self, should not have residue\n",
    "def repeatedSubstringPattern( s):\n",
    "  size = len(s)\n",
    "  for x in range(1, size//2+1):\n",
    "    if size % (x) == 0:  \n",
    "      if s[:x]*(int(size/(x))) == s:\n",
    "        \n",
    "        return True\n",
    "    else:\n",
    "      continue\n",
    "  return False"
   ]
  },
  {
   "cell_type": "code",
   "execution_count": 88,
   "metadata": {},
   "outputs": [],
   "source": [
    "# pythonic way. if there is repeating elements\n",
    "# get rid of head and tail will not affect s\n",
    "# but non-repeat elements would affect\n",
    "class Solution(object):\n",
    "    def repeatedSubstringPattern(self, s):\n",
    "        \"\"\"\n",
    "        :type s: str\n",
    "        :rtype: bool\n",
    "        \"\"\"\n",
    "        if not s:\n",
    "            return True\n",
    "        ss = (s+s)[1:-1] # remove the head and tail\n",
    "        return ss.find(s) != -1"
   ]
  },
  {
   "cell_type": "code",
   "execution_count": null,
   "metadata": {
    "collapsed": true
   },
   "outputs": [],
   "source": []
  }
 ],
 "metadata": {
  "kernelspec": {
   "display_name": "Python [conda root]",
   "language": "python",
   "name": "conda-root-py"
  },
  "language_info": {
   "codemirror_mode": {
    "name": "ipython",
    "version": 3
   },
   "file_extension": ".py",
   "mimetype": "text/x-python",
   "name": "python",
   "nbconvert_exporter": "python",
   "pygments_lexer": "ipython3",
   "version": "3.6.1"
  }
 },
 "nbformat": 4,
 "nbformat_minor": 2
}
